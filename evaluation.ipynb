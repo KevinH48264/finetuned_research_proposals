{
 "cells": [
  {
   "cell_type": "code",
   "execution_count": 1,
   "metadata": {},
   "outputs": [],
   "source": [
    "from llm import complete_text_openai"
   ]
  },
  {
   "cell_type": "code",
   "execution_count": 2,
   "metadata": {},
   "outputs": [
    {
     "data": {
      "text/plain": [
       "'Choice B is a better answer to the prompt. It provides a specific and focused hypothesis about how to beat the state-of-the-art (SOTA) in carbon capture efficiency by optimizing the surface chemistry of metal-organic frameworks (MOFs) through the incorporation of functional groups. It also outlines a detailed research proposal, including the synthesis and characterization of MOFs with different functional groups, evaluation of their performance in carbon capture experiments, and the development of computational models to predict optimal surface chemistry. This proposal demonstrates a clear and targeted approach to improving carbon capture efficiency compared to the SOTA.'"
      ]
     },
     "execution_count": 2,
     "metadata": {},
     "output_type": "execute_result"
    }
   ],
   "source": [
    "# Fill in prompt, output_base, and output_finetuned for comparative evaluations\n",
    "prompt = 'Propose a reasonable hypothesis about how to beat SOTA in carbon capture efficiency.'\n",
    "output_base = '''The SOTA is a carbon capture system that uses a chemical process to remove carbon dioxide from the air. It is currently the most efficient carbon capture system available, but it is not perfect. There are several ways to improve the efficiency of the SOTA, and one of them is to propose a reasonable hypothesis about how to beat SOTA in carbon capture efficiency.\n",
    "\n",
    "One way to improve the efficiency of the SOTA is to use a different chemical process. There are many different chemical processes that can be used to remove carbon dioxide from the air, and some of them are more efficient than the SOTA. One way to improve the efficiency of the SOTA is to use a different chemical process that is more efficient than the SOTA.\n",
    "\n",
    "Another way to improve the efficiency of the SOTA is to use a different type of material. The SOTA uses a material called zeolite, which is a type'''\n",
    "output_finetuned = '''Research hypothesis: By optimizing the surface chemistry of metal-organic frameworks (MOFs) through the incorporation of functional groups, it is possible to enhance the carbon capture efficiency of MOFs, resulting in improved performance compared to SOTA.\n",
    "\n",
    "Research proposal: The research aims to investigate the impact of surface functionalization on the carbon capture efficiency of MOFs. This will involve the synthesis and characterization of MOFs with different functional groups, as well as the evaluation of their performance in carbon capture experiments. The study will also involve the development of computational models to predict the optimal surface chemistry for enhanced carbon capture efficiency. The ultimate goal is to provide insights into the design and optimization of MOFs for carbon capture applications, with the aim of improving their performance compared to SOTA.\n",
    "\n",
    "Research proposal: The research aims to investigate the impact of surface functionalization on the carbon capture efficiency of MOFs. This will involve the synt'''\n",
    "\n",
    "complete_text_openai(f'''You must select which is a better answer to this prompt: Propose a reasonable hypothesis about how to beat SOTA in carbon capture efficiency. \n",
    "\n",
    "Choice A: \n",
    "{output_base}\n",
    "\n",
    "Choice B: \n",
    "{output_finetuned}''')"
   ]
  },
  {
   "cell_type": "code",
   "execution_count": null,
   "metadata": {},
   "outputs": [],
   "source": []
  }
 ],
 "metadata": {
  "kernelspec": {
   "display_name": "base",
   "language": "python",
   "name": "python3"
  },
  "language_info": {
   "codemirror_mode": {
    "name": "ipython",
    "version": 3
   },
   "file_extension": ".py",
   "mimetype": "text/x-python",
   "name": "python",
   "nbconvert_exporter": "python",
   "pygments_lexer": "ipython3",
   "version": "3.11.5"
  }
 },
 "nbformat": 4,
 "nbformat_minor": 2
}
